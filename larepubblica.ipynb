{
  "nbformat": 4,
  "nbformat_minor": 0,
  "metadata": {
    "colab": {
      "provenance": [],
      "authorship_tag": "ABX9TyOL08ZWTH8HDplOkKNd7EoC",
      "include_colab_link": true
    },
    "kernelspec": {
      "name": "python3",
      "display_name": "Python 3"
    },
    "language_info": {
      "name": "python"
    }
  },
  "cells": [
    {
      "cell_type": "markdown",
      "metadata": {
        "id": "view-in-github",
        "colab_type": "text"
      },
      "source": [
        "<a href=\"https://colab.research.google.com/github/ffedox/corpus_ilgiornale/blob/main/larepubblica.ipynb\" target=\"_parent\"><img src=\"https://colab.research.google.com/assets/colab-badge.svg\" alt=\"Open In Colab\"/></a>"
      ]
    },
    {
      "cell_type": "markdown",
      "source": [
        "# Estraendo un articolo e i metadati (La Repubblica)"
      ],
      "metadata": {
        "id": "SIXpyLH58cWS"
      }
    },
    {
      "cell_type": "markdown",
      "source": [
        "La Repubblica non ha i commenti?"
      ],
      "metadata": {
        "id": "cIioF7sn8sN8"
      }
    },
    {
      "cell_type": "markdown",
      "source": [
        "Metadati articoli: data, nome giornale, numero articolo, autore"
      ],
      "metadata": {
        "id": "eDmgZ_WR8o_t"
      }
    },
    {
      "cell_type": "markdown",
      "source": [
        "Per trovare gli articoli, ho usato la seguente query su Google:\n",
        "\n",
        "site:www.repubblica.it intitle:\"ius soli\" after:2017-01-01 before:2017-12-31\n",
        "\n"
      ],
      "metadata": {
        "id": "eGN8OMUR_gzG"
      }
    },
    {
      "cell_type": "markdown",
      "source": [
        "In uno step successivo capiremo come prendere tutti i link e ripetere questa cosa per tutti i link."
      ],
      "metadata": {
        "id": "5F1IXo6V_svB"
      }
    },
    {
      "cell_type": "code",
      "execution_count": 1,
      "metadata": {
        "id": "-euUAVGA8EUJ"
      },
      "outputs": [],
      "source": [
        "import requests\n",
        "from bs4 import BeautifulSoup"
      ]
    },
    {
      "cell_type": "code",
      "source": [
        "url = \"https://www.repubblica.it/esteri/2017/07/21/news/quel_solido_mito_made_in_usa_chiamato_ius_soli-210394972/\""
      ],
      "metadata": {
        "id": "djPOghWZ8FeC"
      },
      "execution_count": 2,
      "outputs": []
    },
    {
      "cell_type": "code",
      "source": [
        "response = requests.get(url)"
      ],
      "metadata": {
        "id": "1f3bKnJb8IMh"
      },
      "execution_count": 3,
      "outputs": []
    },
    {
      "cell_type": "code",
      "source": [
        "soup = BeautifulSoup(response.content, \"html.parser\")"
      ],
      "metadata": {
        "id": "JZZY5Nin8KGl"
      },
      "execution_count": 4,
      "outputs": []
    },
    {
      "cell_type": "code",
      "source": [
        "# Testo articolo\n",
        "article_text = soup.find(\"div\", {\"class\": \"story__text\"})\n",
        "print(article_text.text)"
      ],
      "metadata": {
        "colab": {
          "base_uri": "https://localhost:8080/"
        },
        "id": "7IxMhs2x8L0D",
        "outputId": "b42dec6b-97e1-4b3c-ef29-67947411af90"
      },
      "execution_count": 9,
      "outputs": [
        {
          "output_type": "stream",
          "name": "stdout",
          "text": [
            "\n",
            "        Lo ius soli nella sua versione moderna è un'invenzione americana. Lo è nel senso delle Americhe al plurale. Fu adottato in quasi tutte le aree del Nuovo Mondo, con un'applicazione molto estensiva della \"common law\" britannica, viste le particolari necessità di popolamento da parte dei coloni venuti dall'Europa. Ma è lo ius soli degli Stati Uniti quello più rilevante, sia per le circostanze particolari della sua nascita, sia per i numeri dei cittadini Usa che diventano tali per il solo fatto di nascere qui, magari da genitori immigrati illegalmente. Si stima che oggi trecentomila diventino ogni anno cittadini degli Stati Uniti in questo modo, pur avendo genitori che potrebbero essere espulsi.\n",
            "\n",
            "Nell'era di Trump, è tollerabile un'applicazione senza limiti dello ius soli? In tutti i paesi europei che hanno riformato le leggi su cittadinanza e naturalizzazione negli ultimi anni — sotto la pressione di nuove ondate migratorie — è prevalsa qualche forma di Ius soli \"con limitazioni\". Per esempio il requisito che almeno uno dei genitori abbia avuto un permesso di soggiorno regolare per un certo periodo. Nulla di simile esiste in America, per ora.\n",
            "\n",
            "La storia dello ius soli statunitense ha radici giuridiche, filosofiche e culturali nell'antichità classica, dalle regole ateniesi sulla cittadinanza all'editto di Caracalla nell'impero romano. Ma la ragione specifica per cui gli Stati Uniti adottano uno ius soli \"estremo\", è legata alla piaga dello schiavismo. Dopo la guerra civile e la vittoria dei nordisti, viene aggiunto alla Costituzione il 13esimo emendamento che abolisce e vieta la schiavitù. Ma gli Stati del Sud tentano con ogni mezzo d'impedire che i neri acquisiscano diritti veri. Una delle strategie usate è questa: il divieto per legge che un nero possa essere cittadino degli Stati Uniti. Ci vuole il Civil Rights Act del 1866, e soprattutto il 14esimo emendamento alla Costituzione del 1868, per risolvere definitivamente la questione. Tutto merito dei repubblicani: allora erano il partito di Abraham Lincoln, anti-schiavista. Con il 14esimo emendamento entra nella legge fondamentale del paese il principio per cui «tutte le persone nate negli Stati Uniti… sono cittadini degli Stati Uniti». Il principio è affermato in modo chiaro, totale, inequivocabile. Naturalmente il legislatore dell'Ottocento pensava solo agli afro-americani nati sul territorio nazionale. Non poteva porsi il problema dei figli di immigrati clandestini, per la semplice ragione che l'immigrazione era tutta legale. Nel 1868 chiunque poteva entrare negli Stati Uniti, se voleva. Solo in seguito arrivano leggi restrittive. Come ricorda lo storico Eric Foner (The Good Kind of American Exceptionalism, su The Nation) le riforme che successivamente regolano l'afflusso dall'estero escludono via via, nell'ordine, «prostitute, poligami, pazzi, anarchici, infine l'intera popolazione della Cina».\n",
            "\n",
            "Il Chinese Exclusion Act, adottato nel 1882 e abrogato solo durante la seconda guerra mondiale, è il caso più importante di una restrizione che prende di mira in modo esplicito un'etnìa. Ce ne saranno altri, magari mascherati attraverso quote nazionali di visti. Ci vorranno le grandi riforme sociali di Lyndon Johnson a metà degli anni Sessanta per dare agli Stati Uniti il grado di apertura che conosciamo oggi, con le leggi odierne sulla Green Card, la facilità del processo di naturalizzazione (dopo cinque anni di Green Card o residenza permanente, scatta il diritto a chiedere la cittadinanza). Quelle che Trump ha promesso di rimettere in discussione, a cominciare dal suo Muslim Ban.\n",
            "\n",
            "A fine Ottocento neppure la svolta anti-immigrati del Chinese Exclusion Act, fece scattare qualche ripensamento sullo ius soli. C'erano nel 1882 almeno 50.000 figli di cinesi nati in America, ma nessuno tentò di negargli la cittadinanza. Il principio dello ius soli era ormai entrato a far parte della cultura nazionale, come ha ricordato uno studioso della materia, l'ex viceministro della Giustizia di Bill Clinton, Walter Dellinger: «Dopo gli anglo-sassoni arrivarono gli immigranti tedeschi, poi gli ebrei tedeschi, poi altre nazionalità europee, infine i latinoamericani, ed era bellissimo che i figli nati qui erano indiscutibilmente, legittimamente americani: a differenza dello ius sanguinis, qui non si guardava all'indietro, alle storie dei loro genitori». È quella che Foner ha definito «la versione migliore dell'eccezione americana ».\n",
            "\n",
            "Nella destra repubblicana oggi non manca la tentazione di cambiare regole. Due anni fa all'inizio della sua campagna elettorale Trump dichiarò: «Molti giuristi sostengono che il 14esimo emendamento non si applica ai figli di clandestini, agli anchor-baby». Questa immagine dei \"bebè- àncora\" non l'ha coniata lui, circolava da molti anni nel gergo della destra. Sarebbero le \"àncore\" che le mamme senza permesso di soggiorno lanciano sul territorio Usa, per potersi un giorno regolarizzare anche loro. I numeri sono grossi o piccoli a seconda dei punti di vista. Stime indipendenti indicano che ogni anno nascono negli Stati Uniti — e ne diventano automaticamente cittadini — oltre trecentomila figli di stranieri senza permesso di soggiorno. Non sono pochi, e tuttavia rappresentano solo l'8% di tutte le nascite. Se si guarda al totale della popolazione di nazionalità americana, è poco più dell'1 per cento ad avere acquisito la cittadinanza per questa via \"anomala\". Inoltre l'immagine dell'àncora è una forzatura: il bambino che nasce americano deve aspettare il 21esimo anno di età per avviare una richiesta di Green Card a favore dei genitori. È forse per queste ragioni che il tema dei \"bebé- àncora\" fa un'apparizione ciclica. Se ne parla solo in campagna elettorale. Nell'ultima, oltre a Trump anche altri candidati repubblicani (Ted Cruz, Rick Santorum, Lindsay Graham) proposero di cambiare lo ius soli introducendo una restrizione che escluda i figli di immigrati illegali. Da quando Trump è alla Casa Bianca si è occupato di Muro col Messico e Muslim Ban ma non ha mai più citato la questione Ius soli. Una ricerca su Google col termine \"anchor-baby\" rivela che l'affollamento di citazioni è di due anni fa, poi crolla.\n",
            "    \n"
          ]
        }
      ]
    },
    {
      "cell_type": "code",
      "source": [
        "article_text # è un elemento HTML della pagina"
      ],
      "metadata": {
        "colab": {
          "base_uri": "https://localhost:8080/"
        },
        "id": "VLO8fd4BBAVB",
        "outputId": "888fa685-c0db-4dbc-df2d-0919b5033557"
      },
      "execution_count": 6,
      "outputs": [
        {
          "output_type": "execute_result",
          "data": {
            "text/plain": [
              "<div class=\"story__text\">\n",
              "        Lo ius soli nella sua versione moderna è un'invenzione americana. Lo è nel senso delle Americhe al plurale. Fu adottato in quasi tutte le aree del Nuovo Mondo, con un'applicazione molto estensiva della \"common law\" britannica, viste le particolari necessità di popolamento da parte dei coloni venuti dall'Europa. Ma è lo ius soli degli Stati Uniti quello più rilevante, sia per le circostanze particolari della sua nascita, sia per i numeri dei cittadini Usa che diventano tali per il solo fatto di nascere qui, magari da genitori immigrati illegalmente. Si stima che oggi trecentomila diventino ogni anno cittadini degli Stati Uniti in questo modo, pur avendo genitori che potrebbero essere espulsi.<br/>\n",
              "<br/>\n",
              "Nell'era di Trump, è tollerabile un'applicazione senza limiti dello ius soli? In tutti i paesi europei che hanno riformato le leggi su cittadinanza e naturalizzazione negli ultimi anni — sotto la pressione di nuove ondate migratorie — è prevalsa qualche forma di Ius soli \"con limitazioni\". Per esempio il requisito che almeno uno dei genitori abbia avuto un permesso di soggiorno regolare per un certo periodo. Nulla di simile esiste in America, per ora.<br/>\n",
              "<br/><div id=\"adv-Bottom\"></div>\n",
              "La storia dello ius soli statunitense ha radici giuridiche, filosofiche e culturali nell'antichità classica, dalle regole ateniesi sulla cittadinanza all'editto di Caracalla nell'impero romano. Ma la ragione specifica per cui gli Stati Uniti adottano uno ius soli \"estremo\", è legata alla piaga dello schiavismo. Dopo la guerra civile e la vittoria dei nordisti, viene aggiunto alla Costituzione il 13esimo emendamento che abolisce e vieta la schiavitù. Ma gli Stati del Sud tentano con ogni mezzo d'impedire che i neri acquisiscano diritti veri. Una delle strategie usate è questa: il divieto per legge che un nero possa essere cittadino degli Stati Uniti. Ci vuole il Civil Rights Act del 1866, e soprattutto il 14esimo emendamento alla Costituzione del 1868, per risolvere definitivamente la questione. Tutto merito dei repubblicani: allora erano il partito di Abraham Lincoln, anti-schiavista. Con il 14esimo emendamento entra nella legge fondamentale del paese il principio per cui «tutte le persone nate negli Stati Uniti… sono cittadini degli Stati Uniti». Il principio è affermato in modo chiaro, totale, inequivocabile. Naturalmente il legislatore dell'Ottocento pensava solo agli afro-americani nati sul territorio nazionale. Non poteva porsi il problema dei figli di immigrati clandestini, per la semplice ragione che l'immigrazione era tutta legale. Nel 1868 chiunque poteva entrare negli Stati Uniti, se voleva. Solo in seguito arrivano leggi restrittive. Come ricorda lo storico Eric Foner (The Good Kind of American Exceptionalism, su The Nation) le riforme che successivamente regolano l'afflusso dall'estero escludono via via, nell'ordine, «prostitute, poligami, pazzi, anarchici, infine l'intera popolazione della Cina».<br/>\n",
              "<br/>\n",
              "Il Chinese Exclusion Act, adottato nel 1882 e abrogato solo durante la seconda guerra mondiale, è il caso più importante di una restrizione che prende di mira in modo esplicito un'etnìa. Ce ne saranno altri, magari mascherati attraverso quote nazionali di visti. Ci vorranno le grandi riforme sociali di Lyndon Johnson a metà degli anni Sessanta per dare agli Stati Uniti il grado di apertura che conosciamo oggi, con le leggi odierne sulla Green Card, la facilità del processo di naturalizzazione (dopo cinque anni di Green Card o residenza permanente, scatta il diritto a chiedere la cittadinanza). Quelle che Trump ha promesso di rimettere in discussione, a cominciare dal suo Muslim Ban.<br/>\n",
              "<br/>\n",
              "A fine Ottocento neppure la svolta anti-immigrati del Chinese Exclusion Act, fece scattare qualche ripensamento sullo ius soli. C'erano nel 1882 almeno 50.000 figli di cinesi nati in America, ma nessuno tentò di negargli la cittadinanza. Il principio dello ius soli era ormai entrato a far parte della cultura nazionale, come ha ricordato uno studioso della materia, l'ex viceministro della Giustizia di Bill Clinton, Walter Dellinger: «Dopo gli anglo-sassoni arrivarono gli immigranti tedeschi, poi gli ebrei tedeschi, poi altre nazionalità europee, infine i latinoamericani, ed era bellissimo che i figli nati qui erano indiscutibilmente, legittimamente americani: a differenza dello ius sanguinis, qui non si guardava all'indietro, alle storie dei loro genitori». È quella che Foner ha definito «la versione migliore dell'eccezione americana ».<br/>\n",
              "<br/>\n",
              "Nella destra repubblicana oggi non manca la tentazione di cambiare regole. Due anni fa all'inizio della sua campagna elettorale Trump dichiarò: «Molti giuristi sostengono che il 14esimo emendamento non si applica ai figli di clandestini, agli anchor-baby». Questa immagine dei \"bebè- àncora\" non l'ha coniata lui, circolava da molti anni nel gergo della destra. Sarebbero le \"àncore\" che le mamme senza permesso di soggiorno lanciano sul territorio Usa, per potersi un giorno regolarizzare anche loro. I numeri sono grossi o piccoli a seconda dei punti di vista. Stime indipendenti indicano che ogni anno nascono negli Stati Uniti — e ne diventano automaticamente cittadini — oltre trecentomila figli di stranieri senza permesso di soggiorno. Non sono pochi, e tuttavia rappresentano solo l'8% di tutte le nascite. Se si guarda al totale della popolazione di nazionalità americana, è poco più dell'1 per cento ad avere acquisito la cittadinanza per questa via \"anomala\". Inoltre l'immagine dell'àncora è una forzatura: il bambino che nasce americano deve aspettare il 21esimo anno di età per avviare una richiesta di Green Card a favore dei genitori. È forse per queste ragioni che il tema dei \"bebé- àncora\" fa un'apparizione ciclica. Se ne parla solo in campagna elettorale. Nell'ultima, oltre a Trump anche altri candidati repubblicani (Ted Cruz, Rick Santorum, Lindsay Graham) proposero di cambiare lo ius soli introducendo una restrizione che escluda i figli di immigrati illegali. Da quando Trump è alla Casa Bianca si è occupato di Muro col Messico e Muslim Ban ma non ha mai più citato la questione Ius soli. Una ricerca su Google col termine \"anchor-baby\" rivela che l'affollamento di citazioni è di due anni fa, poi crolla.\n",
              "    </div>"
            ]
          },
          "metadata": {},
          "execution_count": 6
        }
      ]
    },
    {
      "cell_type": "code",
      "source": [
        "# Per togliere l'HTML dobbiamo richiedere esplicitamente \"article_text.text\"\n",
        "# Gli \\n che vedi sono i newline, che si possono togliere per pulire il testo più avanti\n",
        "\n",
        "article_text = article_text.text\n",
        "article_text"
      ],
      "metadata": {
        "colab": {
          "base_uri": "https://localhost:8080/",
          "height": 552
        },
        "id": "AGMN7odsBhoZ",
        "outputId": "c7ef64e3-7030-4eb6-dcc8-8d1f8d2a8e51"
      },
      "execution_count": 10,
      "outputs": [
        {
          "output_type": "execute_result",
          "data": {
            "text/plain": [
              "'\\n        Lo ius soli nella sua versione moderna è un\\'invenzione americana. Lo è nel senso delle Americhe al plurale. Fu adottato in quasi tutte le aree del Nuovo Mondo, con un\\'applicazione molto estensiva della \"common law\" britannica, viste le particolari necessità di popolamento da parte dei coloni venuti dall\\'Europa. Ma è lo ius soli degli Stati Uniti quello più rilevante, sia per le circostanze particolari della sua nascita, sia per i numeri dei cittadini Usa che diventano tali per il solo fatto di nascere qui, magari da genitori immigrati illegalmente. Si stima che oggi trecentomila diventino ogni anno cittadini degli Stati Uniti in questo modo, pur avendo genitori che potrebbero essere espulsi.\\n\\nNell\\'era di Trump, è tollerabile un\\'applicazione senza limiti dello ius soli? In tutti i paesi europei che hanno riformato le leggi su cittadinanza e naturalizzazione negli ultimi anni — sotto la pressione di nuove ondate migratorie — è prevalsa qualche forma di Ius soli \"con limitazioni\". Per esempio il requisito che almeno uno dei genitori abbia avuto un permesso di soggiorno regolare per un certo periodo. Nulla di simile esiste in America, per ora.\\n\\nLa storia dello ius soli statunitense ha radici giuridiche, filosofiche e culturali nell\\'antichità classica, dalle regole ateniesi sulla cittadinanza all\\'editto di Caracalla nell\\'impero romano. Ma la ragione specifica per cui gli Stati Uniti adottano uno ius soli \"estremo\", è legata alla piaga dello schiavismo. Dopo la guerra civile e la vittoria dei nordisti, viene aggiunto alla Costituzione il 13esimo emendamento che abolisce e vieta la schiavitù. Ma gli Stati del Sud tentano con ogni mezzo d\\'impedire che i neri acquisiscano diritti veri. Una delle strategie usate è questa: il divieto per legge che un nero possa essere cittadino degli Stati Uniti. Ci vuole il Civil Rights Act del 1866, e soprattutto il 14esimo emendamento alla Costituzione del 1868, per risolvere definitivamente la questione. Tutto merito dei repubblicani: allora erano il partito di Abraham Lincoln, anti-schiavista. Con il 14esimo emendamento entra nella legge fondamentale del paese il principio per cui «tutte le persone nate negli Stati Uniti… sono cittadini degli Stati Uniti». Il principio è affermato in modo chiaro, totale, inequivocabile. Naturalmente il legislatore dell\\'Ottocento pensava solo agli afro-americani nati sul territorio nazionale. Non poteva porsi il problema dei figli di immigrati clandestini, per la semplice ragione che l\\'immigrazione era tutta legale. Nel 1868 chiunque poteva entrare negli Stati Uniti, se voleva. Solo in seguito arrivano leggi restrittive. Come ricorda lo storico Eric Foner (The Good Kind of American Exceptionalism, su The Nation) le riforme che successivamente regolano l\\'afflusso dall\\'estero escludono via via, nell\\'ordine, «prostitute, poligami, pazzi, anarchici, infine l\\'intera popolazione della Cina».\\n\\nIl Chinese Exclusion Act, adottato nel 1882 e abrogato solo durante la seconda guerra mondiale, è il caso più importante di una restrizione che prende di mira in modo esplicito un\\'etnìa. Ce ne saranno altri, magari mascherati attraverso quote nazionali di visti. Ci vorranno le grandi riforme sociali di Lyndon Johnson a metà degli anni Sessanta per dare agli Stati Uniti il grado di apertura che conosciamo oggi, con le leggi odierne sulla Green Card, la facilità del processo di naturalizzazione (dopo cinque anni di Green Card o residenza permanente, scatta il diritto a chiedere la cittadinanza). Quelle che Trump ha promesso di rimettere in discussione, a cominciare dal suo Muslim Ban.\\n\\nA fine Ottocento neppure la svolta anti-immigrati del Chinese Exclusion Act, fece scattare qualche ripensamento sullo ius soli. C\\'erano nel 1882 almeno 50.000 figli di cinesi nati in America, ma nessuno tentò di negargli la cittadinanza. Il principio dello ius soli era ormai entrato a far parte della cultura nazionale, come ha ricordato uno studioso della materia, l\\'ex viceministro della Giustizia di Bill Clinton, Walter Dellinger: «Dopo gli anglo-sassoni arrivarono gli immigranti tedeschi, poi gli ebrei tedeschi, poi altre nazionalità europee, infine i latinoamericani, ed era bellissimo che i figli nati qui erano indiscutibilmente, legittimamente americani: a differenza dello ius sanguinis, qui non si guardava all\\'indietro, alle storie dei loro genitori». È quella che Foner ha definito «la versione migliore dell\\'eccezione americana ».\\n\\nNella destra repubblicana oggi non manca la tentazione di cambiare regole. Due anni fa all\\'inizio della sua campagna elettorale Trump dichiarò: «Molti giuristi sostengono che il 14esimo emendamento non si applica ai figli di clandestini, agli anchor-baby». Questa immagine dei \"bebè- àncora\" non l\\'ha coniata lui, circolava da molti anni nel gergo della destra. Sarebbero le \"àncore\" che le mamme senza permesso di soggiorno lanciano sul territorio Usa, per potersi un giorno regolarizzare anche loro. I numeri sono grossi o piccoli a seconda dei punti di vista. Stime indipendenti indicano che ogni anno nascono negli Stati Uniti — e ne diventano automaticamente cittadini — oltre trecentomila figli di stranieri senza permesso di soggiorno. Non sono pochi, e tuttavia rappresentano solo l\\'8% di tutte le nascite. Se si guarda al totale della popolazione di nazionalità americana, è poco più dell\\'1 per cento ad avere acquisito la cittadinanza per questa via \"anomala\". Inoltre l\\'immagine dell\\'àncora è una forzatura: il bambino che nasce americano deve aspettare il 21esimo anno di età per avviare una richiesta di Green Card a favore dei genitori. È forse per queste ragioni che il tema dei \"bebé- àncora\" fa un\\'apparizione ciclica. Se ne parla solo in campagna elettorale. Nell\\'ultima, oltre a Trump anche altri candidati repubblicani (Ted Cruz, Rick Santorum, Lindsay Graham) proposero di cambiare lo ius soli introducendo una restrizione che escluda i figli di immigrati illegali. Da quando Trump è alla Casa Bianca si è occupato di Muro col Messico e Muslim Ban ma non ha mai più citato la questione Ius soli. Una ricerca su Google col termine \"anchor-baby\" rivela che l\\'affollamento di citazioni è di due anni fa, poi crolla.\\n    '"
            ],
            "application/vnd.google.colaboratory.intrinsic+json": {
              "type": "string"
            }
          },
          "metadata": {},
          "execution_count": 10
        }
      ]
    },
    {
      "cell_type": "code",
      "source": [
        "# Data\n",
        "article_date = soup.find('time', {'class': 'story__date'})\n",
        "article_date = article_date['datetime'][:10]\n",
        "print(article_date)"
      ],
      "metadata": {
        "colab": {
          "base_uri": "https://localhost:8080/"
        },
        "id": "bqyijhNS8yGX",
        "outputId": "9b5b7694-19cb-489a-d539-cf138b2bbea7"
      },
      "execution_count": null,
      "outputs": [
        {
          "output_type": "stream",
          "name": "stdout",
          "text": [
            "2017-07-21\n"
          ]
        }
      ]
    },
    {
      "cell_type": "code",
      "source": [
        "# Nome giornale, numero articolo\n",
        "# Qualcosa tipo:\n",
        "article_id = \"R1\""
      ],
      "metadata": {
        "colab": {
          "base_uri": "https://localhost:8080/"
        },
        "id": "P-opEd2d8yzK",
        "outputId": "eeeb840b-4f26-46aa-9c0f-1c918d300844"
      },
      "execution_count": null,
      "outputs": [
        {
          "output_type": "stream",
          "name": "stdout",
          "text": [
            "R1\n"
          ]
        }
      ]
    },
    {
      "cell_type": "code",
      "source": [
        "# Autore\n",
        "article_author = soup.find('em', {'class': 'story__author'})\n",
        "article_author = article_author.text.strip()\n",
        "print(article_author) # Si può tenere solo \"FEDERICO RAMPINI\""
      ],
      "metadata": {
        "colab": {
          "base_uri": "https://localhost:8080/"
        },
        "id": "EMsdwd5h84En",
        "outputId": "27655302-b2b5-4ff6-b25e-86142fb3a3b4"
      },
      "execution_count": 12,
      "outputs": [
        {
          "output_type": "stream",
          "name": "stdout",
          "text": [
            "dal nostro corrispondente FEDERICO RAMPINI\n"
          ]
        }
      ]
    },
    {
      "cell_type": "code",
      "source": [
        "# Tenendo solo \"FEDERICO RAMPINI\"\n",
        "\n",
        "name = article_author.split(\"dal nostro corrispondente \")[1]\n",
        "name"
      ],
      "metadata": {
        "colab": {
          "base_uri": "https://localhost:8080/",
          "height": 35
        },
        "id": "-I_imtneCGXL",
        "outputId": "01b41ace-e2df-4324-c6a7-dcd9976b07ac"
      },
      "execution_count": 15,
      "outputs": [
        {
          "output_type": "execute_result",
          "data": {
            "text/plain": [
              "'FEDERICO RAMPINI'"
            ],
            "application/vnd.google.colaboratory.intrinsic+json": {
              "type": "string"
            }
          },
          "metadata": {},
          "execution_count": 15
        }
      ]
    },
    {
      "cell_type": "markdown",
      "source": [
        "Da fare:\n",
        "\n",
        "1. Scoprire come prendere il testo in \"article_author\" e togliere \"dal nostro corrispondente\" (rip l'ho già fatto)\n",
        "\n",
        "2. Scoprire come togliere i newline dal testo dell'articolo\n",
        "\n",
        "3. Scoprire come creare un file .txt, con i metadati nel nome e il testo dlel'articolo nel file.\n",
        "\n",
        "Consiglio di usare https://chat.openai.com/.\n",
        "\n",
        "Per es. puoi chiedere a ChatGPT come funziona il codice che ho messo sopra."
      ],
      "metadata": {
        "id": "DDzRDZzv-Ncz"
      }
    }
  ]
}